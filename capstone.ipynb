{
  "nbformat": 4,
  "nbformat_minor": 0,
  "metadata": {
    "colab": {
      "provenance": [],
      "authorship_tag": "ABX9TyNqjXyoU8nRGm+LXTiJ7161",
      "include_colab_link": true
    },
    "kernelspec": {
      "name": "python3",
      "display_name": "Python 3"
    },
    "language_info": {
      "name": "python"
    }
  },
  "cells": [
    {
      "cell_type": "markdown",
      "metadata": {
        "id": "view-in-github",
        "colab_type": "text"
      },
      "source": [
        "<a href=\"https://colab.research.google.com/github/dataeducator/capstone/blob/main/capstone.ipynb\" target=\"_parent\"><img src=\"https://colab.research.google.com/assets/colab-badge.svg\" alt=\"Open In Colab\"/></a>"
      ]
    },
    {
      "cell_type": "markdown",
      "source": [
        "# Final Project Submission:Capstone\n",
        "(Capstone)\n",
        "\n",
        "- Student Name: Tenicka Norwood\n",
        "- Program Pace: self-paced\n",
        "- Scheduled Project Review Time: Tuesday, September 19, 2023, 12 pm\n",
        "- Instructor name: Morgan Jones\n",
        "- Blog post Url: https://medium.com/mlearning-ai/fueling-student-success-1723abd2991b"
      ],
      "metadata": {
        "id": "cdn2T52V4tmC"
      }
    },
    {
      "cell_type": "code",
      "execution_count": null,
      "metadata": {
        "id": "6ze4D3v2F1wx"
      },
      "outputs": [],
      "source": []
    },
    {
      "cell_type": "markdown",
      "source": [
        "## Business Understanding\n"
      ],
      "metadata": {
        "id": "0LQdzJxA5BS5"
      }
    },
    {
      "cell_type": "code",
      "source": [],
      "metadata": {
        "id": "9tiEe7FJ5WW1"
      },
      "execution_count": null,
      "outputs": []
    },
    {
      "cell_type": "markdown",
      "source": [
        "## Data Understanding"
      ],
      "metadata": {
        "id": "3axmg4wq5W_3"
      }
    }
  ]
}